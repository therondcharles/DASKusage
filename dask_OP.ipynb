{
 "cells": [
  {
   "cell_type": "markdown",
   "metadata": {},
   "source": [
    "<H1 style=\"text-align: center;font-size:60px; color:#3E4E59\"> Création d'un cluster avec dask </H1>\n",
    "\n",
    "<H3 style='font-size:20px;color:#F25652'>Attention vos machines doivent avoir miniconda dans votre home et un environnement appelé python36 <br/>\n",
    "Merci de ne pas utliser mon espace de travail</H3>\n",
    "<H3 style='font-size:20px;color:#D9BB93;text-align: right'>Charles THEROND</H3>\n",
    "\n"
   ]
  },
  {
   "cell_type": "code",
   "execution_count": 1,
   "metadata": {},
   "outputs": [],
   "source": [
    "import subprocess\n",
    "import pandas as pd\n",
    "import random\n",
    "import threading"
   ]
  },
  {
   "cell_type": "markdown",
   "metadata": {},
   "source": [
    "<H2 style=\"color:#3E4E59;font-size:40px\">Création de la table contenant les adresses machines</H2>"
   ]
  },
  {
   "cell_type": "code",
   "execution_count": 2,
   "metadata": {},
   "outputs": [],
   "source": [
    "def get_address(tab,salle='131'):\n",
    "    '''\n",
    "    Permet d 'ajouter à la table le nom des machines d'une salle donnée.\n",
    "    \n",
    "    INPUT:\n",
    "    tab     ->  table contenant ( ou non ) la liste des adresses d'une salle.\n",
    "    salle   ->  numéro de la salle pour laquelle nous souhaitons generer les IP.\n",
    "    \n",
    "    OUTPUT:\n",
    "    tab     ->  liste contenant les adresses de la nouvelle salle ajoutée.  \n",
    "    '''\n",
    "    for i in range(1,31):\n",
    "        if i<10:\n",
    "            i=str('0'+str(i))\n",
    "        tab.append(str('c'+salle+'-'+str(i)+'.enst.fr'))\n",
    "    return tab"
   ]
  },
  {
   "cell_type": "code",
   "execution_count": 3,
   "metadata": {},
   "outputs": [],
   "source": [
    "def update_env(add,out_list,login):\n",
    "    '''\n",
    "    Teste la connexion à une machine pour l'ajouter dans la chaine de cluster\n",
    "    Attention votre machine doit avoir miniconda dans votre home et un environnement appelé python36\n",
    "    \n",
    "    INPUT:\n",
    "    add         ->  adresse IP sur laquelle tester la connexion\n",
    "    out_list    ->  liste des résultats pour multi-threading\n",
    "    login       ->  pseudo de l'utilisateur\n",
    "    '''\n",
    "    try:\n",
    "        result=[add]\n",
    "        retour = subprocess.check_output(\n",
    "            str(\"ssh -t \"+login+\"@\"+add+\" 'export PATH=\\\"/cal/homes/\"+login+\"/miniconda2/bin:$PATH\\\";source activate python36;conda env list ' \"), \n",
    "            shell=True,\n",
    "            timeout=20)\n",
    "        result+= str(retour).split(\"\\\\n\")\n",
    "        \n",
    "        out_list.append(str(result).split(\"\\\\n\"))\n",
    "        return result\n",
    "    except:\n",
    "        out_list.append( str('inexistant ou injoignable '+add))\n",
    "        return str('inexistant ou injoignable '+add)"
   ]
  },
  {
   "cell_type": "code",
   "execution_count": 4,
   "metadata": {},
   "outputs": [],
   "source": [
    "def get_free_machine(AD,login,verbose=False):\n",
    "    '''\n",
    "    Fonction visant a paralleliser la recherche de machine à l'aide de thread\n",
    "    \n",
    "    INPUT:\n",
    "    AD          ->  Liste des machines sur laquelle tester la connexion\n",
    "    verbose     ->  Boolean pour afficher plus de contenu\n",
    "    login       ->  pseudo de l'utilisateur\n",
    "    \n",
    "    OUTPUT:\n",
    "    Table des adresses uniques de machines utilisable pour le cluster\n",
    "    \n",
    "    '''\n",
    "    import threading\n",
    "    out_list = list()\n",
    "    jobs=[]\n",
    "    for address in AD:\n",
    "        thread = threading.Thread(target=update_env,args=(address, out_list,login))\n",
    "        jobs.append(thread)\n",
    "    for j in jobs:\n",
    "        j.start()\n",
    "    for j in jobs:\n",
    "        j.join()\n",
    "    if verbose:\n",
    "        print(\"----------------------------------------\")\n",
    "        print(\"----------MACHINE INDISPONIBLE----------\") \n",
    "        echec=[]\n",
    "    ip_tab=[]\n",
    "   \n",
    "    for val in out_list:\n",
    "        if val[0] =='i':\n",
    "            echec.append(val[-16:])\n",
    "        else:\n",
    "            ip =val[0].split(\",\")[0].replace(\"'\",\"\").replace(\"[\",\"\")\n",
    "            ip_tab.append(ip)\n",
    "    if verbose:\n",
    "        print(echec)\n",
    "        print(\"----------------------------------------\")\n",
    "        print(\"-----------MACHINE DU CLUSTER-----------\") \n",
    "        print(list(set(ip_tab)))\n",
    "    return list(set(ip_tab))"
   ]
  },
  {
   "cell_type": "markdown",
   "metadata": {},
   "source": [
    "<H2 style=\"color:#3E4E59;font-size:30px\"> Utilisation</H2>"
   ]
  },
  {
   "cell_type": "code",
   "execution_count": 5,
   "metadata": {},
   "outputs": [
    {
     "name": "stdout",
     "output_type": "stream",
     "text": [
      "----------------------------------------\n",
      "----------MACHINE INDISPONIBLE----------\n",
      "[' c128-02.enst.fr', ' c128-10.enst.fr', ' c128-14.enst.fr', ' c128-21.enst.fr', ' c128-23.enst.fr', ' c128-28.enst.fr', ' c128-30.enst.fr', ' c126-05.enst.fr', ' c126-08.enst.fr', ' c126-22.enst.fr', ' c127-17.enst.fr', ' c127-01.enst.fr', ' c127-06.enst.fr', ' c127-07.enst.fr', ' c127-08.enst.fr', ' c127-13.enst.fr', ' c127-23.enst.fr', ' c127-24.enst.fr', ' c127-26.enst.fr', ' c127-30.enst.fr', ' c128-01.enst.fr', ' c128-05.enst.fr', ' c128-12.enst.fr', ' c128-18.enst.fr', ' c128-25.enst.fr', ' c126-01.enst.fr', ' c126-04.enst.fr', ' c126-02.enst.fr', ' c126-03.enst.fr', ' c126-07.enst.fr', ' c126-09.enst.fr', ' c126-10.enst.fr', ' c126-12.enst.fr', ' c126-11.enst.fr', ' c126-14.enst.fr', ' c126-13.enst.fr', ' c126-15.enst.fr', ' c126-16.enst.fr', ' c126-18.enst.fr', ' c126-17.enst.fr', ' c126-19.enst.fr', ' c126-21.enst.fr', ' c126-23.enst.fr', ' c126-24.enst.fr', ' c126-25.enst.fr', ' c126-27.enst.fr', ' c126-28.enst.fr', ' c126-26.enst.fr', ' c126-29.enst.fr', ' c126-30.enst.fr']\n",
      "----------------------------------------\n",
      "-----------MACHINE DU CLUSTER-----------\n",
      "['c127-21.enst.fr', 'c128-08.enst.fr', 'c128-19.enst.fr', 'c127-11.enst.fr', 'c128-06.enst.fr', 'c128-26.enst.fr', 'c127-12.enst.fr', 'c127-15.enst.fr', 'c128-13.enst.fr', 'c126-06.enst.fr', 'c128-24.enst.fr', 'c127-29.enst.fr', 'c127-10.enst.fr', 'c127-05.enst.fr', 'c127-18.enst.fr', 'c128-17.enst.fr', 'c127-03.enst.fr', 'c128-16.enst.fr', 'c126-20.enst.fr', 'c127-09.enst.fr', 'c128-09.enst.fr', 'c128-04.enst.fr', 'c127-20.enst.fr', 'c127-02.enst.fr', 'c128-11.enst.fr', 'c127-14.enst.fr', 'c127-27.enst.fr', 'c128-22.enst.fr', 'c128-29.enst.fr', 'c128-07.enst.fr', 'c127-28.enst.fr', 'c127-19.enst.fr', 'c128-03.enst.fr', 'c128-27.enst.fr', 'c127-04.enst.fr', 'c128-15.enst.fr', 'c127-25.enst.fr', 'c127-22.enst.fr', 'c127-16.enst.fr', 'c128-20.enst.fr']\n"
     ]
    }
   ],
   "source": [
    "ADRESSE=get_address([],'127')\n",
    "ADRESSE=get_address(ADRESSE,'128')\n",
    "ADRESSE=get_address(ADRESSE,'126')\n",
    "\n",
    "ADRESSE1=get_address([],'125')\n",
    "ADRESSE1=get_address(ADRESSE1,'129')\n",
    "ADRESSE1=get_address(ADRESSE1,'133')\n",
    "\n",
    "cluster0 = get_free_machine(ADRESSE,\"ctherond\",True)\n",
    "#cluster1 = get_free_machine(ADRESSE1,\"ctherond\")"
   ]
  },
  {
   "cell_type": "markdown",
   "metadata": {},
   "source": [
    "<H2 style=\"color:#3E4E59;font-size:40px\">Lancement et extinction d'un cluster</H2>\n",
    "\n",
    "<H2 style=\"color:#3E4E59;font-size:30px\">Lancement du cluster</H2>"
   ]
  },
  {
   "cell_type": "code",
   "execution_count": 6,
   "metadata": {},
   "outputs": [],
   "source": [
    "def start_master(add,login):\n",
    "    '''\n",
    "    Essayer de lancer le master sur l'adresse add à partir de repertoire du login\n",
    "    '''\n",
    "    try:\n",
    "        print(add,\"master\")\n",
    "        print(\"http://\"+add+\":8787/status\")\n",
    "        cmd=\"ssh -t \"+login+\"@\"\n",
    "        cmd+=add\n",
    "        cmd+=' \"export PATH=\"/cal/homes/'+login+'/miniconda2/bin:$PATH\";source activate python36; nohup dask-scheduler \" '\n",
    "        retour = subprocess.check_output(\n",
    "            cmd, \n",
    "            shell=True,\n",
    "            timeout=2)\n",
    "        return \"ok\"\n",
    "    except:\n",
    "        return str('echec starting master '+add)\n",
    "def start_worker(master,add,login):\n",
    "    '''\n",
    "    Essaye de lancer un worker à l'adresse add sur le master master à partir du repertoire du login\n",
    "    '''\n",
    "    try:\n",
    "        print(add,'worker')\n",
    "        retour = subprocess.check_output(\n",
    "            str('ssh -t '+login+'@'+add+' \"export PATH=\"/cal/homes/'+login+'/miniconda2/bin:$PATH\";source activate python36;nohup dask-worker '+master+'\\:8786 \"'), \n",
    "            shell=True,\n",
    "            timeout=10)\n",
    "        return 'ok'\n",
    "    except:\n",
    "        return str('echec starting worker '+add)  \n",
    "\n",
    "def start_all(tab,login):\n",
    "    '''\n",
    "    Fonction visant à paralleliser le lancement du cluster à partir de tab sur l'espace login\n",
    "    \n",
    "    INPUT:\n",
    "    tab     ->  liste des adresses sur lesquelles lancer le cluster\n",
    "    login   ->  nom de l'espace sur le quelle lancer le cluster sur chaque machine\n",
    "    '''\n",
    "    master=\"\"\n",
    "    jobs=[]\n",
    "    for ind in range(len(tab)):\n",
    "        if ind==0:\n",
    "            start_master(tab[ind],login)\n",
    "            master=tab[ind]\n",
    "        else:\n",
    "            thread = threading.Thread(target=start_worker,args=(master,tab[ind],login))\n",
    "            jobs.append(thread)\n",
    "    for j in jobs:\n",
    "        j.start()\n",
    "    for j in jobs:\n",
    "        j.join()"
   ]
  },
  {
   "cell_type": "markdown",
   "metadata": {},
   "source": [
    "<H2 style=\"color:#3E4E59;font-size:30px\">Extinction du cluster</H2>"
   ]
  },
  {
   "cell_type": "code",
   "execution_count": 7,
   "metadata": {},
   "outputs": [],
   "source": [
    "def checkstop(add,login,Kill=False,verbose=False):\n",
    "    '''\n",
    "    Fonction permetant la vérification et l'arret des processus Dask sur la machine add\n",
    "    \n",
    "    INPUT:\n",
    "    add         ->  Adresse sur la quelle éteindre effectuer la vérification ou l'arret\n",
    "    login       ->  Espace sur lequel effectuer les tache\n",
    "    Kill        ->  Boolean déterminant si on souhaite arreter les processus dask\n",
    "    verbose     ->  Pour avoir plus de contenu\n",
    "    '''\n",
    "    try:\n",
    "        result=\"\"\n",
    "        retour = subprocess.check_output(\n",
    "            str(\"ssh -t \"+login+\"@\"+add+\" 'ps -ef | grep dask' \"), \n",
    "            shell=True,\n",
    "            timeout=10)\n",
    "        for row in str(retour).split(\"\\\\n\"):\n",
    "            if 'python36/bin/python' in row:\n",
    "                result1=row.split(\" \")[1]\n",
    "                result2=row.split(\" \")[2]\n",
    "                if not(Kill):\n",
    "                    print('Le processus',result1,result2,'sur',add,\"est en execution\")\n",
    "                if Kill :\n",
    "                    subprocess.call(str(\"ssh -t  \"+login+\"@\"+add+\" 'kill \"+result1+\" ' \"), \n",
    "                    shell=True,timeout=2)\n",
    "                    subprocess.call(str(\"ssh -t  \"+login+\"@\"+add+\" 'kill \"+result2+\" ' \"), \n",
    "                    shell=True,timeout=2)\n",
    "                    if verbose:\n",
    "                        print(\"Le processus\",result1,result2,\"sur\",add,\"est mort\")\n",
    "        if Kill & verbose:\n",
    "            checkstop(add,login,False,True)\n",
    "        return \"L'arret c'est bien déroulé\"\n",
    "    except:\n",
    "        return str('erreur de processus')\n",
    "def checkstop_all(tab,login,K=False,VV=False):\n",
    "    '''\n",
    "    Fonction visant l'extinction parallelisée des machines de tab reliées au login\n",
    "    '''\n",
    "    jobs=[]\n",
    "    for ind in range(1,len(tab)):\n",
    "        thread = threading.Thread(target=checkstop,args=(tab[ind],login,K,VV))\n",
    "        jobs.append(thread)\n",
    "    for j in jobs:\n",
    "        j.start()\n",
    "    for j in jobs:\n",
    "        j.join()\n",
    "    checkstop(tab[0],login,K,VV)"
   ]
  },
  {
   "cell_type": "markdown",
   "metadata": {},
   "source": [
    "<H2 style=\"color:#3E4E59;font-size:30px\">Utilisation</H2>"
   ]
  },
  {
   "cell_type": "code",
   "execution_count": 8,
   "metadata": {},
   "outputs": [
    {
     "name": "stdout",
     "output_type": "stream",
     "text": [
      "c127-21.enst.fr master\n",
      "http://c127-21.enst.fr:8787/status\n",
      "c128-08.enst.fr worker\n",
      "c128-19.enst.fr worker\n",
      "c127-11.enst.fr worker\n",
      "c128-06.enst.fr worker\n",
      "c128-26.enst.fr worker\n",
      "c127-12.enst.fr worker\n",
      "c127-15.enst.fr worker\n",
      "c128-13.enst.fr c126-06.enst.frworker worker\n",
      "c128-24.enst.fr\n",
      " worker\n",
      "c127-29.enst.fr worker\n",
      "c127-10.enst.fr workerc127-05.enst.fr worker\n",
      "\n",
      "c127-18.enst.fr worker\n",
      "c128-17.enst.fr worker\n",
      "c127-03.enst.fr worker\n",
      "c128-16.enst.fr worker\n",
      "c126-20.enst.fr worker\n",
      "c127-09.enst.fr worker\n",
      "c128-09.enst.fr worker\n",
      "c128-04.enst.fr worker\n",
      "c127-20.enst.fr worker\n",
      "c127-02.enst.fr worker\n",
      "c128-11.enst.fr worker\n",
      "c127-14.enst.fr worker\n",
      "c127-27.enst.fr worker\n",
      "c128-22.enst.fr c128-29.enst.fr worker\n",
      "workerc128-07.enst.fr\n",
      " worker\n",
      "c127-28.enst.fr worker\n",
      "c127-19.enst.fr worker\n",
      "c128-03.enst.fr worker\n",
      "c128-27.enst.fr c127-04.enst.frworker worker\n",
      "\n",
      "c128-15.enst.fr worker\n",
      "c127-25.enst.fr worker\n",
      "c127-22.enst.fr c127-16.enst.frworker\n",
      " worker\n",
      "c128-20.enst.fr worker\n"
     ]
    }
   ],
   "source": [
    "start_all(cluster0,\"ctherond\")"
   ]
  },
  {
   "cell_type": "code",
   "execution_count": 9,
   "metadata": {},
   "outputs": [
    {
     "name": "stdout",
     "output_type": "stream",
     "text": [
      "Le processus 12861  sur c126-06.enst.fr est mort\n",
      "Le processus  7590 sur c127-09.enst.fr est mort\n",
      "Le processus  7880 sur c127-14.enst.fr est mort\n",
      "Le processus 12258  sur c128-19.enst.fr est mort\n",
      "Le processus  8518 sur c127-12.enst.fr est mort\n",
      "Le processus 10094  sur c127-29.enst.fr est mort\n",
      "Le processus 18991  sur c128-07.enst.fr est mort\n",
      "Le processus 18043  sur c128-24.enst.fr est mort\n",
      "Le processusLe processus  9883 sur c127-11.enst.fr est mort\n",
      "  4862 sur c127-10.enst.fr est mort\n",
      "Le processus 12087  sur c127-15.enst.fr est mort\n",
      "Le processusLe processus 14678  sur   7689 sur c127-27.enst.fr est mort\n",
      "c128-04.enst.fr est mort\n",
      "Le processus 15129  sur c128-17.enst.fr est mort\n",
      "Le processus 10511  sur c127-05.enst.fr est mort\n",
      "Le processus 16555  sur c128-08.enst.fr est mort\n",
      "Le processus 11867  sur c127-03.enst.fr est mort\n",
      "Le processus 13881  sur c127-04.enst.fr est mort\n",
      "Le processus 16638  sur c128-22.enst.fr est mort\n",
      "Le processus 16701  sur c128-13.enst.fr est mort\n",
      "Le processus  8177 sur c127-02.enst.fr est mort\n",
      "Le processus  8750 sur c126-20.enst.fr est mort\n",
      "Le processusLe processus  5487 sur c128-27.enst.fr est mort\n",
      "  8718 sur c127-28.enst.fr est mort\n",
      "Le processus 10488  sur c128-29.enst.fr est mort\n",
      "Le processus 15984  sur c128-11.enst.fr est mort\n",
      "Le processus 12097  sur c128-20.enst.fr est mort\n",
      "Le processus 16047  sur c128-15.enst.fr est mort\n",
      "Le processus 15191  sur c128-16.enst.fr est mort\n",
      "Le processus 15739  sur c127-19.enst.fr est mort\n",
      "Le processus  7106 sur c127-25.enst.fr est mort\n",
      "Le processus  7819 sur c128-26.enst.fr est mort\n",
      "Le processus 11055  sur c127-20.enst.fr est mort\n",
      "Le processus 17567  sur c128-09.enst.fr est mort\n",
      "Le processus  9525 sur c127-18.enst.fr est mort\n",
      "Le processus  6265 sur c127-22.enst.fr est mort\n",
      "Le processus 18499  sur c128-03.enst.fr est mort\n",
      "Le processus 11724  sur c128-06.enst.fr est mort\n",
      "Le processus  5926 sur c127-16.enst.fr est mort\n",
      "Le processus 13884  sur c127-21.enst.fr est mort\n"
     ]
    }
   ],
   "source": [
    "checkstop_all(cluster0,\"ctherond\",True,True)"
   ]
  },
  {
   "cell_type": "code",
   "execution_count": 10,
   "metadata": {},
   "outputs": [
    {
     "data": {
      "text/plain": [
       "\u001b[0;31mSignature:\u001b[0m \u001b[0mcheckstop_all\u001b[0m\u001b[0;34m(\u001b[0m\u001b[0mtab\u001b[0m\u001b[0;34m,\u001b[0m \u001b[0mlogin\u001b[0m\u001b[0;34m,\u001b[0m \u001b[0mK\u001b[0m\u001b[0;34m=\u001b[0m\u001b[0;32mFalse\u001b[0m\u001b[0;34m,\u001b[0m \u001b[0mVV\u001b[0m\u001b[0;34m=\u001b[0m\u001b[0;32mFalse\u001b[0m\u001b[0;34m)\u001b[0m\u001b[0;34m\u001b[0m\u001b[0m\n",
       "\u001b[0;31mDocstring:\u001b[0m Fonction visant l'extinction parallelisée des machines de tab reliées au login\n",
       "\u001b[0;31mFile:\u001b[0m      ~/Documents/<ipython-input-7-1fd496f7cf1a>\n",
       "\u001b[0;31mType:\u001b[0m      function\n"
      ]
     },
     "metadata": {},
     "output_type": "display_data"
    }
   ],
   "source": [
    "checkstop_all?"
   ]
  }
 ],
 "metadata": {
  "kernelspec": {
   "display_name": "Python 3",
   "language": "python",
   "name": "python3"
  },
  "language_info": {
   "codemirror_mode": {
    "name": "ipython",
    "version": 3
   },
   "file_extension": ".py",
   "mimetype": "text/x-python",
   "name": "python",
   "nbconvert_exporter": "python",
   "pygments_lexer": "ipython3",
   "version": "3.6.6"
  }
 },
 "nbformat": 4,
 "nbformat_minor": 2
}
